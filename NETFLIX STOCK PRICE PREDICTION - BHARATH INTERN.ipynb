{
 "cells": [
  {
   "cell_type": "markdown",
   "id": "940eeab8",
   "metadata": {},
   "source": [
    "# BHARAT INTERNSHIP - TASK 1"
   ]
  },
  {
   "cell_type": "markdown",
   "id": "58a3c105",
   "metadata": {},
   "source": [
    "## NETFLIX STOCK PRICE PREDICTION USING LSTM"
   ]
  },
  {
   "cell_type": "markdown",
   "id": "6b55a522",
   "metadata": {},
   "source": [
    "### STEP 1 : Import the necessary libraries:"
   ]
  },
  {
   "cell_type": "code",
   "execution_count": 1,
   "id": "3d95c35d",
   "metadata": {},
   "outputs": [],
   "source": [
    "import pandas as pd\n",
    "import seaborn as sns\n",
    "import numpy as np\n",
    "import matplotlib.pyplot as plt\n",
    "import tensorflow as tf\n",
    "from sklearn.preprocessing import MinMaxScaler \n",
    "from sklearn.metrics import mean_absolute_error\n",
    "from keras.models import Sequential\n",
    "from keras.layers import LSTM, Dense, Dropout\n",
    "import warnings\n",
    "warnings.filterwarnings(\"ignore\")"
   ]
  },
  {
   "cell_type": "markdown",
   "id": "0d681083",
   "metadata": {},
   "source": [
    "### STEP 2 : Import the dataset"
   ]
  },
  {
   "cell_type": "code",
   "execution_count": 2,
   "id": "f8382f59",
   "metadata": {},
   "outputs": [
    {
     "data": {
      "text/html": [
       "<div>\n",
       "<style scoped>\n",
       "    .dataframe tbody tr th:only-of-type {\n",
       "        vertical-align: middle;\n",
       "    }\n",
       "\n",
       "    .dataframe tbody tr th {\n",
       "        vertical-align: top;\n",
       "    }\n",
       "\n",
       "    .dataframe thead th {\n",
       "        text-align: right;\n",
       "    }\n",
       "</style>\n",
       "<table border=\"1\" class=\"dataframe\">\n",
       "  <thead>\n",
       "    <tr style=\"text-align: right;\">\n",
       "      <th></th>\n",
       "      <th>Date</th>\n",
       "      <th>Open</th>\n",
       "      <th>High</th>\n",
       "      <th>Low</th>\n",
       "      <th>Close</th>\n",
       "      <th>Adj Close</th>\n",
       "      <th>Volume</th>\n",
       "    </tr>\n",
       "  </thead>\n",
       "  <tbody>\n",
       "    <tr>\n",
       "      <th>0</th>\n",
       "      <td>2018-02-05</td>\n",
       "      <td>262.000000</td>\n",
       "      <td>267.899994</td>\n",
       "      <td>250.029999</td>\n",
       "      <td>254.259995</td>\n",
       "      <td>254.259995</td>\n",
       "      <td>11896100</td>\n",
       "    </tr>\n",
       "    <tr>\n",
       "      <th>1</th>\n",
       "      <td>2018-02-06</td>\n",
       "      <td>247.699997</td>\n",
       "      <td>266.700012</td>\n",
       "      <td>245.000000</td>\n",
       "      <td>265.720001</td>\n",
       "      <td>265.720001</td>\n",
       "      <td>12595800</td>\n",
       "    </tr>\n",
       "    <tr>\n",
       "      <th>2</th>\n",
       "      <td>2018-02-07</td>\n",
       "      <td>266.579987</td>\n",
       "      <td>272.450012</td>\n",
       "      <td>264.329987</td>\n",
       "      <td>264.559998</td>\n",
       "      <td>264.559998</td>\n",
       "      <td>8981500</td>\n",
       "    </tr>\n",
       "    <tr>\n",
       "      <th>3</th>\n",
       "      <td>2018-02-08</td>\n",
       "      <td>267.079987</td>\n",
       "      <td>267.619995</td>\n",
       "      <td>250.000000</td>\n",
       "      <td>250.100006</td>\n",
       "      <td>250.100006</td>\n",
       "      <td>9306700</td>\n",
       "    </tr>\n",
       "    <tr>\n",
       "      <th>4</th>\n",
       "      <td>2018-02-09</td>\n",
       "      <td>253.850006</td>\n",
       "      <td>255.800003</td>\n",
       "      <td>236.110001</td>\n",
       "      <td>249.470001</td>\n",
       "      <td>249.470001</td>\n",
       "      <td>16906900</td>\n",
       "    </tr>\n",
       "  </tbody>\n",
       "</table>\n",
       "</div>"
      ],
      "text/plain": [
       "         Date        Open        High         Low       Close   Adj Close  \\\n",
       "0  2018-02-05  262.000000  267.899994  250.029999  254.259995  254.259995   \n",
       "1  2018-02-06  247.699997  266.700012  245.000000  265.720001  265.720001   \n",
       "2  2018-02-07  266.579987  272.450012  264.329987  264.559998  264.559998   \n",
       "3  2018-02-08  267.079987  267.619995  250.000000  250.100006  250.100006   \n",
       "4  2018-02-09  253.850006  255.800003  236.110001  249.470001  249.470001   \n",
       "\n",
       "     Volume  \n",
       "0  11896100  \n",
       "1  12595800  \n",
       "2   8981500  \n",
       "3   9306700  \n",
       "4  16906900  "
      ]
     },
     "execution_count": 2,
     "metadata": {},
     "output_type": "execute_result"
    }
   ],
   "source": [
    "netflix = pd.read_csv('NFLX.csv') \n",
    "netflix.head()"
   ]
  },
  {
   "cell_type": "markdown",
   "id": "f8e9d4da",
   "metadata": {},
   "source": [
    "### STEP 3 : Data exploration and cleaning"
   ]
  },
  {
   "cell_type": "code",
   "execution_count": 3,
   "id": "0c5d107a",
   "metadata": {},
   "outputs": [
    {
     "name": "stdout",
     "output_type": "stream",
     "text": [
      "<class 'pandas.core.frame.DataFrame'>\n",
      "RangeIndex: 1009 entries, 0 to 1008\n",
      "Data columns (total 7 columns):\n",
      " #   Column     Non-Null Count  Dtype  \n",
      "---  ------     --------------  -----  \n",
      " 0   Date       1009 non-null   object \n",
      " 1   Open       1009 non-null   float64\n",
      " 2   High       1009 non-null   float64\n",
      " 3   Low        1009 non-null   float64\n",
      " 4   Close      1009 non-null   float64\n",
      " 5   Adj Close  1009 non-null   float64\n",
      " 6   Volume     1009 non-null   int64  \n",
      "dtypes: float64(5), int64(1), object(1)\n",
      "memory usage: 55.3+ KB\n"
     ]
    }
   ],
   "source": [
    "netflix.info()"
   ]
  },
  {
   "cell_type": "code",
   "execution_count": 4,
   "id": "49b34cbc",
   "metadata": {},
   "outputs": [
    {
     "data": {
      "text/plain": [
       "Date         0\n",
       "Open         0\n",
       "High         0\n",
       "Low          0\n",
       "Close        0\n",
       "Adj Close    0\n",
       "Volume       0\n",
       "dtype: int64"
      ]
     },
     "execution_count": 4,
     "metadata": {},
     "output_type": "execute_result"
    }
   ],
   "source": [
    "netflix.isnull().sum()"
   ]
  },
  {
   "cell_type": "code",
   "execution_count": 5,
   "id": "8d0ae51b",
   "metadata": {},
   "outputs": [
    {
     "data": {
      "text/plain": [
       "Date         datetime64[ns]\n",
       "Open                float64\n",
       "High                float64\n",
       "Low                 float64\n",
       "Close               float64\n",
       "Adj Close           float64\n",
       "Volume                int64\n",
       "dtype: object"
      ]
     },
     "execution_count": 5,
     "metadata": {},
     "output_type": "execute_result"
    }
   ],
   "source": [
    "netflix[ 'Date'] = pd.to_datetime(netflix['Date']) \n",
    "netflix.dtypes"
   ]
  },
  {
   "cell_type": "code",
   "execution_count": 6,
   "id": "ce3c413f",
   "metadata": {},
   "outputs": [
    {
     "data": {
      "text/html": [
       "<div>\n",
       "<style scoped>\n",
       "    .dataframe tbody tr th:only-of-type {\n",
       "        vertical-align: middle;\n",
       "    }\n",
       "\n",
       "    .dataframe tbody tr th {\n",
       "        vertical-align: top;\n",
       "    }\n",
       "\n",
       "    .dataframe thead th {\n",
       "        text-align: right;\n",
       "    }\n",
       "</style>\n",
       "<table border=\"1\" class=\"dataframe\">\n",
       "  <thead>\n",
       "    <tr style=\"text-align: right;\">\n",
       "      <th></th>\n",
       "      <th>Date</th>\n",
       "      <th>Open</th>\n",
       "      <th>High</th>\n",
       "      <th>Low</th>\n",
       "      <th>Close</th>\n",
       "      <th>Adj Close</th>\n",
       "      <th>Volume</th>\n",
       "      <th>Year</th>\n",
       "      <th>Month</th>\n",
       "      <th>Day</th>\n",
       "    </tr>\n",
       "  </thead>\n",
       "  <tbody>\n",
       "    <tr>\n",
       "      <th>0</th>\n",
       "      <td>2018-02-05</td>\n",
       "      <td>262.000000</td>\n",
       "      <td>267.899994</td>\n",
       "      <td>250.029999</td>\n",
       "      <td>254.259995</td>\n",
       "      <td>254.259995</td>\n",
       "      <td>11896100</td>\n",
       "      <td>2018</td>\n",
       "      <td>02</td>\n",
       "      <td>05</td>\n",
       "    </tr>\n",
       "    <tr>\n",
       "      <th>1</th>\n",
       "      <td>2018-02-06</td>\n",
       "      <td>247.699997</td>\n",
       "      <td>266.700012</td>\n",
       "      <td>245.000000</td>\n",
       "      <td>265.720001</td>\n",
       "      <td>265.720001</td>\n",
       "      <td>12595800</td>\n",
       "      <td>2018</td>\n",
       "      <td>02</td>\n",
       "      <td>06</td>\n",
       "    </tr>\n",
       "    <tr>\n",
       "      <th>2</th>\n",
       "      <td>2018-02-07</td>\n",
       "      <td>266.579987</td>\n",
       "      <td>272.450012</td>\n",
       "      <td>264.329987</td>\n",
       "      <td>264.559998</td>\n",
       "      <td>264.559998</td>\n",
       "      <td>8981500</td>\n",
       "      <td>2018</td>\n",
       "      <td>02</td>\n",
       "      <td>07</td>\n",
       "    </tr>\n",
       "    <tr>\n",
       "      <th>3</th>\n",
       "      <td>2018-02-08</td>\n",
       "      <td>267.079987</td>\n",
       "      <td>267.619995</td>\n",
       "      <td>250.000000</td>\n",
       "      <td>250.100006</td>\n",
       "      <td>250.100006</td>\n",
       "      <td>9306700</td>\n",
       "      <td>2018</td>\n",
       "      <td>02</td>\n",
       "      <td>08</td>\n",
       "    </tr>\n",
       "    <tr>\n",
       "      <th>4</th>\n",
       "      <td>2018-02-09</td>\n",
       "      <td>253.850006</td>\n",
       "      <td>255.800003</td>\n",
       "      <td>236.110001</td>\n",
       "      <td>249.470001</td>\n",
       "      <td>249.470001</td>\n",
       "      <td>16906900</td>\n",
       "      <td>2018</td>\n",
       "      <td>02</td>\n",
       "      <td>09</td>\n",
       "    </tr>\n",
       "  </tbody>\n",
       "</table>\n",
       "</div>"
      ],
      "text/plain": [
       "        Date        Open        High         Low       Close   Adj Close  \\\n",
       "0 2018-02-05  262.000000  267.899994  250.029999  254.259995  254.259995   \n",
       "1 2018-02-06  247.699997  266.700012  245.000000  265.720001  265.720001   \n",
       "2 2018-02-07  266.579987  272.450012  264.329987  264.559998  264.559998   \n",
       "3 2018-02-08  267.079987  267.619995  250.000000  250.100006  250.100006   \n",
       "4 2018-02-09  253.850006  255.800003  236.110001  249.470001  249.470001   \n",
       "\n",
       "     Volume  Year Month Day  \n",
       "0  11896100  2018    02  05  \n",
       "1  12595800  2018    02  06  \n",
       "2   8981500  2018    02  07  \n",
       "3   9306700  2018    02  08  \n",
       "4  16906900  2018    02  09  "
      ]
     },
     "execution_count": 6,
     "metadata": {},
     "output_type": "execute_result"
    }
   ],
   "source": [
    "netflix[ 'Year'] = netflix['Date'].apply(lambda x: str(x)[:4]) \n",
    "netflix[ 'Month'] = netflix['Date'].apply(lambda x: str(x)[5:7]) \n",
    "netflix[ 'Day'] = netflix['Date'].apply(lambda x: str(x)[8:10]) \n",
    "netflix.head()"
   ]
  },
  {
   "cell_type": "code",
   "execution_count": 7,
   "id": "c6f3ea21",
   "metadata": {},
   "outputs": [],
   "source": [
    "class color:\n",
    "    GREEN = '\\033[92m'\n",
    "    RED = '\\033[91m'\n",
    "    BOLD = '\\033[1m'\n",
    "    UNDERLINE = '\\033[4m'\n",
    "    END = '\\033[0m'\n",
    "    \n",
    "    GREEN_BOLD = GREEN + BOLD \n",
    "    RED_BOLD = RED + BOLD\n",
    "    GREEN_BOLD_UNDERLINE = GREEN_BOLD + UNDERLINE\n",
    "\n",
    "rb = color.RED_BOLD\n",
    "gb = color.GREEN_BOLD\n",
    "gbu = color.GREEN_BOLD_UNDERLINE\n",
    "end = color.END"
   ]
  },
  {
   "cell_type": "code",
   "execution_count": 8,
   "id": "4e1b441f",
   "metadata": {},
   "outputs": [
    {
     "name": "stdout",
     "output_type": "stream",
     "text": [
      "\u001b[91m\u001b[1mTotal number of trading days: \u001b[0m\u001b[92m\u001b[1m\u001b[4m1009\u001b[0m\n",
      "\u001b[91m\u001b[1mTotal number of fields: \u001b[0m\u001b[92m\u001b[1m\u001b[4m10\u001b[0m\n",
      "\n",
      "\n",
      "\u001b[91m\u001b[1mNull values: \u001b[0m\u001b[92m\u001b[1m\u001b[4m0\u001b[0m\n",
      "\u001b[91m\u001b[1mNA values: \u001b[0m\u001b[92m\u001b[1m\u001b[4mFalse\u001b[0m\n"
     ]
    }
   ],
   "source": [
    "print(f'{rb}Total number of trading days: {end}{gbu}{netflix.shape[0]}{end}')\n",
    "print(f'{rb}Total number of fields: {end}{gbu}{netflix.shape[1]}{end}')\n",
    "print(\"\\n\")  # You had an extra single quote here; I removed it.\n",
    "\n",
    "# Check the Null and NA values\n",
    "print(f'{rb}Null values: {end}{gbu}{netflix.isnull().values.sum()}{end}')\n",
    "print(f'{rb}NA values: {end}{gbu}{netflix.isna().values.any()}{end}')"
   ]
  },
  {
   "cell_type": "code",
   "execution_count": 9,
   "id": "268b3570",
   "metadata": {},
   "outputs": [],
   "source": [
    "netflix_df = netflix[ 'Open'].values"
   ]
  },
  {
   "cell_type": "code",
   "execution_count": 10,
   "id": "a241b76a",
   "metadata": {},
   "outputs": [],
   "source": [
    "netflix_df = netflix_df.reshape(-1, 1)"
   ]
  },
  {
   "cell_type": "markdown",
   "id": "4bbaf262",
   "metadata": {},
   "source": [
    "### STEP 4 : Training and Testing of Dataset"
   ]
  },
  {
   "cell_type": "code",
   "execution_count": 11,
   "id": "4ddb9cfb",
   "metadata": {},
   "outputs": [],
   "source": [
    "netflix_train = np.array(netflix_df[:int(netflix_df.shape[0]*0.8)])\n",
    "netflix_test = np.array(netflix_df[int (netflix_df.shape[0]*0.8):])"
   ]
  },
  {
   "cell_type": "code",
   "execution_count": 12,
   "id": "7a9a2e4f",
   "metadata": {},
   "outputs": [
    {
     "name": "stdout",
     "output_type": "stream",
     "text": [
      "(202, 1)\n"
     ]
    }
   ],
   "source": [
    "scaler = MinMaxScaler(feature_range=(0,1))\n",
    "netflix_train = scaler.fit_transform(netflix_train)\n",
    "netflix_test = scaler.transform(netflix_test)\n",
    "print(netflix_test.shape)"
   ]
  },
  {
   "cell_type": "code",
   "execution_count": 13,
   "id": "115ded5b",
   "metadata": {},
   "outputs": [],
   "source": [
    "def create_dataset (netflix_df):\n",
    "    x= []\n",
    "    y= []\n",
    "    for i in range(50, netflix_df.shape[0]):\n",
    "        x.append(netflix_df[i-50:i, 0])\n",
    "        y.append(netflix_df[i, 0])\n",
    "    x = np.array(x)\n",
    "    y= np.array(y) \n",
    "    return x,y"
   ]
  },
  {
   "cell_type": "code",
   "execution_count": 14,
   "id": "f8727fe4",
   "metadata": {},
   "outputs": [],
   "source": [
    "x_train, y_train = create_dataset(netflix_train) \n",
    "x_test, y_test = create_dataset(netflix_test)"
   ]
  },
  {
   "cell_type": "code",
   "execution_count": 15,
   "id": "431603a7",
   "metadata": {},
   "outputs": [],
   "source": [
    "x_train = np.reshape(x_train, (x_train. shape[0], x_train.shape[1], 1)) \n",
    "x_test = np.reshape(x_test, (x_test.shape[0], x_test.shape[1], 1))"
   ]
  },
  {
   "cell_type": "markdown",
   "id": "d322abd7",
   "metadata": {},
   "source": [
    "### STEP 5 : Create sequences of data for the LSTM model"
   ]
  },
  {
   "cell_type": "code",
   "execution_count": 16,
   "id": "7ca8e238",
   "metadata": {},
   "outputs": [],
   "source": [
    "model = Sequential()\n",
    "model.add(LSTM(units=56, return_sequences=True, input_shape=(x_train.shape[1], 1))) \n",
    "model.add(Dropout(0.2))\n",
    "model.add(LSTM(units=96, return_sequences=True))\n",
    "model.add(Dropout(0.2))\n",
    "model.add(LSTM(units=96, return_sequences=True))\n",
    "model.add(Dropout(0.2))\n",
    "model.add(LSTM(units=96))\n",
    "model.add (Dropout(0.2)) \n",
    "model.add(Dense(units=1))"
   ]
  },
  {
   "cell_type": "code",
   "execution_count": 17,
   "id": "c11f480c",
   "metadata": {},
   "outputs": [
    {
     "name": "stdout",
     "output_type": "stream",
     "text": [
      "Model: \"sequential\"\n",
      "_________________________________________________________________\n",
      " Layer (type)                Output Shape              Param #   \n",
      "=================================================================\n",
      " lstm (LSTM)                 (None, 50, 56)            12992     \n",
      "                                                                 \n",
      " dropout (Dropout)           (None, 50, 56)            0         \n",
      "                                                                 \n",
      " lstm_1 (LSTM)               (None, 50, 96)            58752     \n",
      "                                                                 \n",
      " dropout_1 (Dropout)         (None, 50, 96)            0         \n",
      "                                                                 \n",
      " lstm_2 (LSTM)               (None, 50, 96)            74112     \n",
      "                                                                 \n",
      " dropout_2 (Dropout)         (None, 50, 96)            0         \n",
      "                                                                 \n",
      " lstm_3 (LSTM)               (None, 96)                74112     \n",
      "                                                                 \n",
      " dropout_3 (Dropout)         (None, 96)                0         \n",
      "                                                                 \n",
      " dense (Dense)               (None, 1)                 97        \n",
      "                                                                 \n",
      "=================================================================\n",
      "Total params: 220065 (859.63 KB)\n",
      "Trainable params: 220065 (859.63 KB)\n",
      "Non-trainable params: 0 (0.00 Byte)\n",
      "_________________________________________________________________\n"
     ]
    }
   ],
   "source": [
    "model.summary()"
   ]
  },
  {
   "cell_type": "code",
   "execution_count": 18,
   "id": "0c3ca630",
   "metadata": {},
   "outputs": [],
   "source": [
    "x_train = np.reshape(x_train, (x_train.shape[0], x_train.shape[1], 1)) \n",
    "x_test = np.reshape(x_test, (x_test.shape[0], x_test.shape[1], 1))"
   ]
  },
  {
   "cell_type": "code",
   "execution_count": 19,
   "id": "115d3203",
   "metadata": {},
   "outputs": [],
   "source": [
    "model.compile(loss='mean_squared_error', optimizer=\"adam\")"
   ]
  },
  {
   "cell_type": "markdown",
   "id": "0bb83561",
   "metadata": {},
   "source": [
    "### Predicitve Analysis"
   ]
  },
  {
   "cell_type": "code",
   "execution_count": 20,
   "id": "34866b81",
   "metadata": {},
   "outputs": [
    {
     "name": "stdout",
     "output_type": "stream",
     "text": [
      "Epoch 1/20\n",
      "12/12 [==============================] - 20s 384ms/step - loss: 0.0652\n",
      "Epoch 2/20\n",
      "12/12 [==============================] - 5s 392ms/step - loss: 0.0163\n",
      "Epoch 3/20\n",
      "12/12 [==============================] - 4s 372ms/step - loss: 0.0114\n",
      "Epoch 4/20\n",
      "12/12 [==============================] - 4s 369ms/step - loss: 0.0076\n",
      "Epoch 5/20\n",
      "12/12 [==============================] - 5s 378ms/step - loss: 0.0076\n",
      "Epoch 6/20\n",
      "12/12 [==============================] - 4s 366ms/step - loss: 0.0079\n",
      "Epoch 7/20\n",
      "12/12 [==============================] - 5s 408ms/step - loss: 0.0078\n",
      "Epoch 8/20\n",
      "12/12 [==============================] - 5s 421ms/step - loss: 0.0078\n",
      "Epoch 9/20\n",
      "12/12 [==============================] - 5s 407ms/step - loss: 0.0080\n",
      "Epoch 10/20\n",
      "12/12 [==============================] - 5s 394ms/step - loss: 0.0073\n",
      "Epoch 11/20\n",
      "12/12 [==============================] - 5s 420ms/step - loss: 0.0071\n",
      "Epoch 12/20\n",
      "12/12 [==============================] - 4s 371ms/step - loss: 0.0072\n",
      "Epoch 13/20\n",
      "12/12 [==============================] - 5s 387ms/step - loss: 0.0067\n",
      "Epoch 14/20\n",
      "12/12 [==============================] - 5s 398ms/step - loss: 0.0061\n",
      "Epoch 15/20\n",
      "12/12 [==============================] - 4s 373ms/step - loss: 0.0062\n",
      "Epoch 16/20\n",
      "12/12 [==============================] - 5s 382ms/step - loss: 0.0065\n",
      "Epoch 17/20\n",
      "12/12 [==============================] - 4s 367ms/step - loss: 0.0062\n",
      "Epoch 18/20\n",
      "12/12 [==============================] - 4s 373ms/step - loss: 0.0069\n",
      "Epoch 19/20\n",
      "12/12 [==============================] - 4s 369ms/step - loss: 0.0075\n",
      "Epoch 20/20\n",
      "12/12 [==============================] - 5s 395ms/step - loss: 0.0065\n",
      "INFO:tensorflow:Assets written to: stock_prediction\\assets\n"
     ]
    },
    {
     "name": "stderr",
     "output_type": "stream",
     "text": [
      "INFO:tensorflow:Assets written to: stock_prediction\\assets\n"
     ]
    }
   ],
   "source": [
    "epochs = 20 \n",
    "batch_size = 64\n",
    "#Save the model and start the training\n",
    "model.fit(x_train, y_train, epochs=epochs, batch_size=batch_size) \n",
    "model.save('stock_prediction')"
   ]
  },
  {
   "cell_type": "code",
   "execution_count": 21,
   "id": "617d2753",
   "metadata": {},
   "outputs": [],
   "source": [
    "from tensorflow.keras.models import load_model"
   ]
  },
  {
   "cell_type": "code",
   "execution_count": 22,
   "id": "d8f8ac09",
   "metadata": {},
   "outputs": [],
   "source": [
    "model = load_model('stock_prediction')"
   ]
  },
  {
   "cell_type": "code",
   "execution_count": 23,
   "id": "011fcac1",
   "metadata": {},
   "outputs": [
    {
     "name": "stdout",
     "output_type": "stream",
     "text": [
      "5/5 [==============================] - 4s 80ms/step\n"
     ]
    }
   ],
   "source": [
    "predictions = model.predict(x_test) \n",
    "predictions = scaler.inverse_transform(predictions) \n",
    "y_test_scaled = scaler.inverse_transform(y_test.reshape(-1, 1))"
   ]
  },
  {
   "cell_type": "code",
   "execution_count": 24,
   "id": "969a8f39",
   "metadata": {},
   "outputs": [
    {
     "data": {
      "image/png": "[encoded data removed]",
      "text/plain": [
       "<Figure size 720x432 with 1 Axes>"
      ]
     },
     "metadata": {
      "needs_background": "light"
     },
     "output_type": "display_data"
    }
   ],
   "source": [
    "plt.figure(figsize=(10, 6))\n",
    "plt.plot(y_test_scaled, color='blue', marker='o', linestyle='-', linewidth=1, markersize=6, label='Original Price')\n",
    "plt.plot(predictions, color='red', marker='x', linestyle='--', linewidth=2, markersize=8, label='Predicted Price')\n",
    "plt.title('Stock Price Prediction')\n",
    "plt.xlabel('Time')\n",
    "plt.ylabel('Price')\n",
    "plt.grid(True)\n",
    "plt.legend()\n",
    "plt.show()"
   ]
  },
  {
   "cell_type": "code",
   "execution_count": null,
   "id": "a5bc9bd2",
   "metadata": {},
   "outputs": [],
   "source": []
  }
 ],
 "metadata": {
  "kernelspec": {
   "display_name": "Python 3 (ipykernel)",
   "language": "python",
   "name": "python3"
  },
  "language_info": {
   "codemirror_mode": {
    "name": "ipython",
    "version": 3
   },
   "file_extension": ".py",
   "mimetype": "text/x-python",
   "name": "python",
   "nbconvert_exporter": "python",
   "pygments_lexer": "ipython3",
   "version": "3.9.12"
  }
 },
 "nbformat": 4,
 "nbformat_minor": 5
}
